{
 "cells": [
  {
   "cell_type": "code",
   "execution_count": 7,
   "id": "1a47092d-4089-4284-b28e-a4f148c17e61",
   "metadata": {},
   "outputs": [],
   "source": [
    "import numpy as np\n",
    "\n",
    "import os\n",
    "import glob #tqdm\n",
    "from sklearn import preprocessing\n",
    "from sklearn.preprocessing import *\n",
    "from sklearn.model_selection import train_test_split\n",
    "from sklearn.preprocessing import OneHotEncoder, LabelEncoder, LabelBinarizer\n",
    "from tensorflow.keras.utils import to_categorical\n",
    "\n",
    "# Neural Network\n",
    "import tensorflow as tf\n",
    "from tensorflow.keras.layers import Conv2D, Dense, AveragePooling2D, Flatten\n",
    "from tensorflow.keras.optimizers import SGD\n",
    "from tensorflow.keras.models import Sequential, load_model\n",
    "\n",
    "# visualization\n",
    "import matplotlib.pyplot as plt\n",
    "%matplotlib inline\n",
    "\n",
    "# OpenCV\n",
    "import cv2\n",
    "\n",
    "#Warnings\n",
    "import warnings\n",
    "warnings.filterwarnings(\"ignore\")"
   ]
  },
  {
   "cell_type": "code",
   "execution_count": 2,
   "id": "6b0dcfa0-fd10-4b16-a836-60ee17991bd3",
   "metadata": {},
   "outputs": [],
   "source": [
    "testimageDatasetspath = \"DataSet/train/\"\n",
    "datasetsNamesTest = os.listdir(testimageDatasetspath)"
   ]
  },
  {
   "cell_type": "code",
   "execution_count": 3,
   "id": "dae38a1a-9c32-42b5-9982-f43086b514fa",
   "metadata": {},
   "outputs": [],
   "source": [
    "image_width = 28\n",
    "image_height = 28"
   ]
  },
  {
   "cell_type": "code",
   "execution_count": 9,
   "id": "049b468e-6f66-40a7-bca5-3b1b0361a5c0",
   "metadata": {},
   "outputs": [],
   "source": [
    "def imageFeatureExtract(image, size = (28, 28)):\n",
    "    img = cv2.resize(image, size)\n",
    "    gray = cv2.cvtColor(img, cv2.COLOR_RGB2GRAY)\n",
    "    gray = np.expand_dims(gray, 2)#(28, 28, 1)\n",
    "    return gray"
   ]
  },
  {
   "cell_type": "code",
   "execution_count": 18,
   "id": "8e00f4d6-a664-4ec1-9bb5-c80c3f9f6b5a",
   "metadata": {},
   "outputs": [],
   "source": [
    "Datasetspath = \"DataSet/train/\"\n",
    "datasetPath = os.path.join(Datasetspath, \"*g\")\n",
    "fileRead = glob.glob(datasetPath)\n",
    "\n",
    "data = []\n",
    "category_or_class = []\n",
    "\n",
    "for (i, file) in enumerate(fileRead):\n",
    "    image = cv2.imread(file)\n",
    "    feature = imageFeatureExtract(image)\n",
    "    data.append(feature)\n",
    "    classNames = file.split(os.path.sep)[-1].split(\".\")[0]\n",
    "    category_or_class.append(classNames)\n"
   ]
  },
  {
   "cell_type": "code",
   "execution_count": 19,
   "id": "86d93496-f30e-4afc-97d1-97dcce2858bb",
   "metadata": {},
   "outputs": [
    {
     "data": {
      "text/plain": [
       "array(['cat', 'cat', 'cat', ..., 'dog', 'dog', 'dog'], dtype='<U3')"
      ]
     },
     "execution_count": 19,
     "metadata": {},
     "output_type": "execute_result"
    }
   ],
   "source": [
    "# Datasets Scalling\n",
    "data = np.array(data, dtype = np.uint8)\n",
    "labels = np.array(category_or_class)\n",
    "labels"
   ]
  },
  {
   "cell_type": "code",
   "execution_count": 16,
   "id": "938fca9e-e2da-4afd-b919-ce7284d01f26",
   "metadata": {},
   "outputs": [
    {
     "data": {
      "text/plain": [
       "(1, 28, 28, 1)"
      ]
     },
     "execution_count": 16,
     "metadata": {},
     "output_type": "execute_result"
    }
   ],
   "source": [
    "data.shape"
   ]
  },
  {
   "cell_type": "code",
   "execution_count": 20,
   "id": "9049ed2a-31f7-4ce4-aed6-488c71d4badd",
   "metadata": {},
   "outputs": [
    {
     "data": {
      "text/plain": [
       "array(['cat', 'dog'], dtype='<U3')"
      ]
     },
     "execution_count": 20,
     "metadata": {},
     "output_type": "execute_result"
    }
   ],
   "source": [
    "np.unique(category_or_class)"
   ]
  },
  {
   "cell_type": "markdown",
   "id": "043fd78d-e908-4648-beaa-761e05ae614d",
   "metadata": {},
   "source": [
    "#### Step 01: Label Encoder"
   ]
  },
  {
   "cell_type": "code",
   "execution_count": 26,
   "id": "bff0f24b-621b-40c8-a658-4e2d498a148a",
   "metadata": {},
   "outputs": [
    {
     "data": {
      "text/plain": [
       "array([0, 0, 0, ..., 1, 1, 1], dtype=int64)"
      ]
     },
     "execution_count": 26,
     "metadata": {},
     "output_type": "execute_result"
    }
   ],
   "source": [
    "labels  = np.array(category_or_class)\n",
    "label_Encoder = LabelEncoder()\n",
    "#label_Encoder = preprocessing.LabelEncoder\n",
    "classNames = label_Encoder.fit_transform(labels)\n",
    "classNames"
   ]
  },
  {
   "cell_type": "code",
   "execution_count": 22,
   "id": "a58334ed-01c9-442f-a213-5cf0fa3e03f5",
   "metadata": {},
   "outputs": [
    {
     "data": {
      "text/plain": [
       "array([0, 1], dtype=int64)"
      ]
     },
     "execution_count": 22,
     "metadata": {},
     "output_type": "execute_result"
    }
   ],
   "source": [
    "np.unique(classNames)"
   ]
  },
  {
   "cell_type": "markdown",
   "id": "ccb6215b-41f3-4ffd-bf83-02093e089548",
   "metadata": {},
   "source": [
    "#### Step 02: OneHotEncoding"
   ]
  },
  {
   "cell_type": "code",
   "execution_count": 25,
   "id": "d4a2a7e6-0873-4f41-9771-61b3d728254b",
   "metadata": {},
   "outputs": [
    {
     "name": "stdout",
     "output_type": "stream",
     "text": [
      "[[0]\n",
      " [0]\n",
      " [0]\n",
      " ...\n",
      " [1]\n",
      " [1]\n",
      " [1]]\n"
     ]
    }
   ],
   "source": [
    "oneHotEncoder = OneHotEncoder(sparse = False)\n",
    "label_EncoderValue = classNames.reshape(len(classNames), 1)\n",
    "print(label_EncoderValue)\n",
    "oneHotEncoderValues = oneHotEncoder.fit_transform(label_EncoderValue)"
   ]
  },
  {
   "cell_type": "code",
   "execution_count": 14,
   "id": "6b7ed206-846d-481c-9ba5-a64929bbc7b2",
   "metadata": {},
   "outputs": [
    {
     "data": {
      "text/plain": [
       "array([[1., 0.],\n",
       "       [1., 0.],\n",
       "       [1., 0.],\n",
       "       ...,\n",
       "       [0., 1.],\n",
       "       [0., 1.],\n",
       "       [0., 1.]])"
      ]
     },
     "execution_count": 14,
     "metadata": {},
     "output_type": "execute_result"
    }
   ],
   "source": [
    "oneHotEncoderValues"
   ]
  },
  {
   "cell_type": "code",
   "execution_count": 15,
   "id": "b68b5f96-a65a-4d15-90c1-f32b71e3d4b8",
   "metadata": {},
   "outputs": [],
   "source": [
    "(X_train, X_test, Y_train, Y_test) = train_test_split(data, oneHotEncoderValues, test_size=0.2, random_state=42)"
   ]
  },
  {
   "cell_type": "code",
   "execution_count": 16,
   "id": "7c9e487d-bde7-4efe-87d1-47a0b4e7a238",
   "metadata": {},
   "outputs": [],
   "source": [
    "model = Sequential() # Empty \n",
    "\n",
    "# 1st layer\n",
    "model.add(Conv2D(6,kernel_size = (5, 5), strides = (1, 1), activation = \"tanh\", input_shape = (28, 28, 1), padding = \"same\"))\n",
    "model.add(AveragePooling2D(pool_size = (2, 2), strides = (2, 2), padding = \"valid\"))\n",
    "\n",
    "# 2nd Layer\n",
    "model.add(Conv2D(16,kernel_size = (5, 5), strides = (1, 1), activation = \"tanh\", padding = \"valid\"))\n",
    "model.add(AveragePooling2D(pool_size = (2, 2), strides = (2, 2), padding = \"valid\"))\n",
    "\n",
    "# Flatten Layer\n",
    "model.add(Flatten())\n",
    "\n",
    "# Output Layer\n",
    "model.add(Dense(120, activation = \"tanh\"))\n",
    "model.add(Dense(84, activation = \"tanh\"))\n",
    "model.add(Dense(2, activation = \"softmax\"))"
   ]
  },
  {
   "cell_type": "code",
   "execution_count": 17,
   "id": "283f76bc-1b9e-4aab-a528-3fbb573f16ef",
   "metadata": {},
   "outputs": [],
   "source": [
    "model.compile(optimizer = \"adam\",\n",
    "             loss = \"categorical_crossentropy\",\n",
    "             metrics = [\"accuracy\"])"
   ]
  },
  {
   "cell_type": "code",
   "execution_count": 18,
   "id": "17c9c3db-d78f-4537-92d2-14f3dab4ab6c",
   "metadata": {},
   "outputs": [
    {
     "name": "stdout",
     "output_type": "stream",
     "text": [
      "Model: \"sequential\"\n",
      "_________________________________________________________________\n",
      " Layer (type)                Output Shape              Param #   \n",
      "=================================================================\n",
      " conv2d (Conv2D)             (None, 28, 28, 6)         156       \n",
      "                                                                 \n",
      " average_pooling2d (AverageP  (None, 14, 14, 6)        0         \n",
      " ooling2D)                                                       \n",
      "                                                                 \n",
      " conv2d_1 (Conv2D)           (None, 10, 10, 16)        2416      \n",
      "                                                                 \n",
      " average_pooling2d_1 (Averag  (None, 5, 5, 16)         0         \n",
      " ePooling2D)                                                     \n",
      "                                                                 \n",
      " flatten (Flatten)           (None, 400)               0         \n",
      "                                                                 \n",
      " dense (Dense)               (None, 120)               48120     \n",
      "                                                                 \n",
      " dense_1 (Dense)             (None, 84)                10164     \n",
      "                                                                 \n",
      " dense_2 (Dense)             (None, 2)                 170       \n",
      "                                                                 \n",
      "=================================================================\n",
      "Total params: 61,026\n",
      "Trainable params: 61,026\n",
      "Non-trainable params: 0\n",
      "_________________________________________________________________\n"
     ]
    }
   ],
   "source": [
    "model.summary()"
   ]
  },
  {
   "cell_type": "code",
   "execution_count": 19,
   "id": "d392d837-03d4-4f5c-bbc6-28dcdeedfb1e",
   "metadata": {},
   "outputs": [
    {
     "name": "stdout",
     "output_type": "stream",
     "text": [
      "Epoch 1/10\n",
      "625/625 [==============================] - 20s 16ms/step - loss: 0.6678 - accuracy: 0.5968 - val_loss: 0.6560 - val_accuracy: 0.6174\n",
      "Epoch 2/10\n",
      "625/625 [==============================] - 10s 16ms/step - loss: 0.6399 - accuracy: 0.6375 - val_loss: 0.6307 - val_accuracy: 0.6404\n",
      "Epoch 3/10\n",
      "625/625 [==============================] - 10s 16ms/step - loss: 0.6221 - accuracy: 0.6562 - val_loss: 0.6237 - val_accuracy: 0.6496\n",
      "Epoch 4/10\n",
      "625/625 [==============================] - 9s 15ms/step - loss: 0.6088 - accuracy: 0.6696 - val_loss: 0.6103 - val_accuracy: 0.6746\n",
      "Epoch 5/10\n",
      "625/625 [==============================] - 9s 14ms/step - loss: 0.5942 - accuracy: 0.6860 - val_loss: 0.6066 - val_accuracy: 0.6692\n",
      "Epoch 6/10\n",
      "625/625 [==============================] - 9s 15ms/step - loss: 0.5804 - accuracy: 0.6928 - val_loss: 0.6030 - val_accuracy: 0.6800\n",
      "Epoch 7/10\n",
      "625/625 [==============================] - 10s 16ms/step - loss: 0.5680 - accuracy: 0.7073 - val_loss: 0.5966 - val_accuracy: 0.6880\n",
      "Epoch 8/10\n",
      "625/625 [==============================] - 11s 17ms/step - loss: 0.5530 - accuracy: 0.7161 - val_loss: 0.5902 - val_accuracy: 0.6838\n",
      "Epoch 9/10\n",
      "625/625 [==============================] - 10s 16ms/step - loss: 0.5375 - accuracy: 0.7302 - val_loss: 0.6136 - val_accuracy: 0.6752\n",
      "Epoch 10/10\n",
      "625/625 [==============================] - 10s 15ms/step - loss: 0.5219 - accuracy: 0.7419 - val_loss: 0.6231 - val_accuracy: 0.6626\n"
     ]
    },
    {
     "data": {
      "text/plain": [
       "<keras.callbacks.History at 0x111bb3c3b80>"
      ]
     },
     "execution_count": 19,
     "metadata": {},
     "output_type": "execute_result"
    }
   ],
   "source": [
    "model.fit(X_train, Y_train,\n",
    "          epochs = 10,\n",
    "          validation_data = (X_test, Y_test), \n",
    "          verbose = 1)"
   ]
  },
  {
   "cell_type": "code",
   "execution_count": 28,
   "id": "d773bc83-acd2-4626-858a-2494388d6eed",
   "metadata": {},
   "outputs": [],
   "source": [
    "class LeNet_Model(Sequential):\n",
    "    \n",
    "    def __init__(self, input_shape, number_class):\n",
    "        super().__init__()\n",
    "        \n",
    "        # 1st layer\n",
    "        self.add(Conv2D(6,kernel_size = (5, 5), strides = (1, 1), activation = \"tanh\", input_shape = input_shape, padding = \"same\"))\n",
    "        self.add(AveragePooling2D(pool_size = (2, 2), strides = (2, 2), padding = \"valid\"))\n",
    "\n",
    "        # 2nd Layer\n",
    "        self.add(Conv2D(16,kernel_size = (5, 5), strides = (1, 1), activation = \"tanh\", padding = \"valid\"))\n",
    "        self.add(AveragePooling2D(pool_size = (2, 2), strides = (2, 2), padding = \"valid\"))\n",
    "\n",
    "        # Flatten Layer\n",
    "        self.add(Flatten())\n",
    "\n",
    "        # Output Layer\n",
    "        self.add(Dense(120, activation = \"tanh\"))\n",
    "        self.add(Dense(84, activation = \"tanh\"))\n",
    "        self.add(Dense(number_class, activation = \"softmax\"))\n",
    "        \n",
    "        self.compile(optimizer = \"adam\",\n",
    "             loss = \"categorical_crossentropy\",\n",
    "             metrics = [\"accuracy\"])\n",
    "        "
   ]
  },
  {
   "cell_type": "code",
   "execution_count": 29,
   "id": "0ada3fd6-fdc2-4dab-b750-e8e25a08b5e0",
   "metadata": {},
   "outputs": [],
   "source": [
    "input_shapes = X_train[0].shape\n",
    "number_class = len(np.unique(labels))"
   ]
  },
  {
   "cell_type": "code",
   "execution_count": 30,
   "id": "4e2cbd67-5d3b-4ba3-906c-5dfec4a1a52d",
   "metadata": {},
   "outputs": [],
   "source": [
    "myModel = LeNet_Model(input_shapes, number_class)"
   ]
  },
  {
   "cell_type": "code",
   "execution_count": 31,
   "id": "0cb1189a-4ffb-46d6-8321-225e098f4eb7",
   "metadata": {},
   "outputs": [
    {
     "name": "stdout",
     "output_type": "stream",
     "text": [
      "Model: \"le_net__model\"\n",
      "_________________________________________________________________\n",
      " Layer (type)                Output Shape              Param #   \n",
      "=================================================================\n",
      " conv2d_2 (Conv2D)           (None, 28, 28, 6)         156       \n",
      "                                                                 \n",
      " average_pooling2d_2 (Averag  (None, 14, 14, 6)        0         \n",
      " ePooling2D)                                                     \n",
      "                                                                 \n",
      " conv2d_3 (Conv2D)           (None, 10, 10, 16)        2416      \n",
      "                                                                 \n",
      " average_pooling2d_3 (Averag  (None, 5, 5, 16)         0         \n",
      " ePooling2D)                                                     \n",
      "                                                                 \n",
      " flatten_1 (Flatten)         (None, 400)               0         \n",
      "                                                                 \n",
      " dense_3 (Dense)             (None, 120)               48120     \n",
      "                                                                 \n",
      " dense_4 (Dense)             (None, 84)                10164     \n",
      "                                                                 \n",
      " dense_5 (Dense)             (None, 2)                 170       \n",
      "                                                                 \n",
      "=================================================================\n",
      "Total params: 61,026\n",
      "Trainable params: 61,026\n",
      "Non-trainable params: 0\n",
      "_________________________________________________________________\n"
     ]
    }
   ],
   "source": [
    "myModel.summary()"
   ]
  },
  {
   "cell_type": "code",
   "execution_count": 32,
   "id": "036eda26-2fba-4f1f-91cb-fcbbc2318eaa",
   "metadata": {},
   "outputs": [],
   "source": [
    "import datetime\n",
    "logsData = \"logs/fit/\" + datetime.datetime.now().strftime(\"%Y%m%d-%H%M%S\")\n",
    "callbacks = tf.keras.callbacks.TensorBoard(log_dir = logsData, histogram_freq = 1)"
   ]
  },
  {
   "cell_type": "code",
   "execution_count": 33,
   "id": "f89bca43-0e92-4e81-ae96-056a82dc6125",
   "metadata": {},
   "outputs": [
    {
     "name": "stdout",
     "output_type": "stream",
     "text": [
      "Epoch 1/100\n",
      "625/625 [==============================] - 14s 23ms/step - loss: 0.5016 - accuracy: 0.7547 - val_loss: 0.6003 - val_accuracy: 0.6858\n",
      "Epoch 2/100\n",
      "625/625 [==============================] - 16s 25ms/step - loss: 0.4878 - accuracy: 0.7638 - val_loss: 0.6206 - val_accuracy: 0.6718\n",
      "Epoch 3/100\n",
      "625/625 [==============================] - 14s 23ms/step - loss: 0.4650 - accuracy: 0.7768 - val_loss: 0.6242 - val_accuracy: 0.6756\n",
      "Epoch 4/100\n",
      "625/625 [==============================] - 10s 16ms/step - loss: 0.4412 - accuracy: 0.7944 - val_loss: 0.6263 - val_accuracy: 0.6778\n",
      "Epoch 5/100\n",
      "625/625 [==============================] - 11s 17ms/step - loss: 0.4225 - accuracy: 0.8063 - val_loss: 0.6296 - val_accuracy: 0.6858\n",
      "Epoch 6/100\n",
      "625/625 [==============================] - 11s 17ms/step - loss: 0.3944 - accuracy: 0.8209 - val_loss: 0.6811 - val_accuracy: 0.6632\n",
      "Epoch 7/100\n",
      "625/625 [==============================] - 11s 17ms/step - loss: 0.3640 - accuracy: 0.8401 - val_loss: 0.7041 - val_accuracy: 0.6690\n",
      "Epoch 8/100\n",
      "625/625 [==============================] - 10s 17ms/step - loss: 0.3403 - accuracy: 0.8510 - val_loss: 0.7131 - val_accuracy: 0.6714\n",
      "Epoch 9/100\n",
      "625/625 [==============================] - 10s 16ms/step - loss: 0.3102 - accuracy: 0.8676 - val_loss: 0.7591 - val_accuracy: 0.6604\n",
      "Epoch 10/100\n",
      "625/625 [==============================] - 11s 18ms/step - loss: 0.2808 - accuracy: 0.8842 - val_loss: 0.7777 - val_accuracy: 0.6662\n",
      "Epoch 11/100\n",
      "625/625 [==============================] - 10s 15ms/step - loss: 0.2611 - accuracy: 0.8903 - val_loss: 0.8161 - val_accuracy: 0.6742\n",
      "Epoch 12/100\n",
      "625/625 [==============================] - 10s 16ms/step - loss: 0.2357 - accuracy: 0.9050 - val_loss: 0.8609 - val_accuracy: 0.6684\n",
      "Epoch 13/100\n",
      "625/625 [==============================] - 10s 16ms/step - loss: 0.2169 - accuracy: 0.9119 - val_loss: 0.8840 - val_accuracy: 0.6650\n",
      "Epoch 14/100\n",
      "625/625 [==============================] - 9s 15ms/step - loss: 0.1893 - accuracy: 0.9276 - val_loss: 0.8938 - val_accuracy: 0.6730\n",
      "Epoch 15/100\n",
      "625/625 [==============================] - 9s 15ms/step - loss: 0.1676 - accuracy: 0.9357 - val_loss: 0.9638 - val_accuracy: 0.6660\n",
      "Epoch 16/100\n",
      "625/625 [==============================] - 9s 15ms/step - loss: 0.1551 - accuracy: 0.9427 - val_loss: 1.0359 - val_accuracy: 0.6580\n",
      "Epoch 17/100\n",
      "625/625 [==============================] - 9s 14ms/step - loss: 0.1341 - accuracy: 0.9515 - val_loss: 1.0487 - val_accuracy: 0.6704\n",
      "Epoch 18/100\n",
      "625/625 [==============================] - 9s 15ms/step - loss: 0.1396 - accuracy: 0.9495 - val_loss: 1.0954 - val_accuracy: 0.6678\n",
      "Epoch 19/100\n",
      "625/625 [==============================] - 10s 16ms/step - loss: 0.1110 - accuracy: 0.9599 - val_loss: 1.1266 - val_accuracy: 0.6644\n",
      "Epoch 20/100\n",
      "625/625 [==============================] - 10s 16ms/step - loss: 0.1050 - accuracy: 0.9631 - val_loss: 1.1552 - val_accuracy: 0.6668\n",
      "Epoch 21/100\n",
      "625/625 [==============================] - 10s 16ms/step - loss: 0.1034 - accuracy: 0.9631 - val_loss: 1.2366 - val_accuracy: 0.6666\n",
      "Epoch 22/100\n",
      "625/625 [==============================] - 10s 16ms/step - loss: 0.1153 - accuracy: 0.9569 - val_loss: 1.2749 - val_accuracy: 0.6534\n",
      "Epoch 23/100\n",
      "625/625 [==============================] - 11s 17ms/step - loss: 0.0747 - accuracy: 0.9755 - val_loss: 1.3067 - val_accuracy: 0.6566\n",
      "Epoch 24/100\n",
      "625/625 [==============================] - 11s 17ms/step - loss: 0.0635 - accuracy: 0.9810 - val_loss: 1.3764 - val_accuracy: 0.6552\n",
      "Epoch 25/100\n",
      "625/625 [==============================] - 10s 16ms/step - loss: 0.1381 - accuracy: 0.9477 - val_loss: 1.3035 - val_accuracy: 0.6588\n",
      "Epoch 26/100\n",
      "625/625 [==============================] - 10s 16ms/step - loss: 0.0896 - accuracy: 0.9675 - val_loss: 1.3917 - val_accuracy: 0.6540\n",
      "Epoch 27/100\n",
      "625/625 [==============================] - 10s 17ms/step - loss: 0.0537 - accuracy: 0.9844 - val_loss: 1.4174 - val_accuracy: 0.6496\n",
      "Epoch 28/100\n",
      "625/625 [==============================] - 10s 16ms/step - loss: 0.0698 - accuracy: 0.9762 - val_loss: 1.4466 - val_accuracy: 0.6566\n",
      "Epoch 29/100\n",
      "625/625 [==============================] - 11s 17ms/step - loss: 0.1220 - accuracy: 0.9525 - val_loss: 1.4989 - val_accuracy: 0.6440\n",
      "Epoch 30/100\n",
      "625/625 [==============================] - 11s 18ms/step - loss: 0.0505 - accuracy: 0.9850 - val_loss: 1.4599 - val_accuracy: 0.6588\n",
      "Epoch 31/100\n",
      "625/625 [==============================] - 13s 20ms/step - loss: 0.0643 - accuracy: 0.9784 - val_loss: 1.4782 - val_accuracy: 0.6570\n",
      "Epoch 32/100\n",
      "625/625 [==============================] - 13s 20ms/step - loss: 0.0937 - accuracy: 0.9657 - val_loss: 1.4489 - val_accuracy: 0.6598\n",
      "Epoch 33/100\n",
      "625/625 [==============================] - 11s 18ms/step - loss: 0.0565 - accuracy: 0.9809 - val_loss: 1.6065 - val_accuracy: 0.6366\n",
      "Epoch 34/100\n",
      "625/625 [==============================] - 12s 19ms/step - loss: 0.0821 - accuracy: 0.9696 - val_loss: 1.5417 - val_accuracy: 0.6572\n",
      "Epoch 35/100\n",
      "625/625 [==============================] - 11s 18ms/step - loss: 0.0794 - accuracy: 0.9718 - val_loss: 1.5279 - val_accuracy: 0.6620\n",
      "Epoch 36/100\n",
      "625/625 [==============================] - 11s 18ms/step - loss: 0.0692 - accuracy: 0.9765 - val_loss: 1.5004 - val_accuracy: 0.6582\n",
      "Epoch 37/100\n",
      "625/625 [==============================] - 10s 16ms/step - loss: 0.0396 - accuracy: 0.9880 - val_loss: 1.6220 - val_accuracy: 0.6532\n",
      "Epoch 38/100\n",
      "625/625 [==============================] - 10s 16ms/step - loss: 0.0485 - accuracy: 0.9847 - val_loss: 1.6846 - val_accuracy: 0.6532\n",
      "Epoch 39/100\n",
      "625/625 [==============================] - 11s 17ms/step - loss: 0.1271 - accuracy: 0.9515 - val_loss: 1.5357 - val_accuracy: 0.6594\n",
      "Epoch 40/100\n",
      "625/625 [==============================] - 11s 17ms/step - loss: 0.0554 - accuracy: 0.9801 - val_loss: 1.6244 - val_accuracy: 0.6556\n",
      "Epoch 41/100\n",
      "625/625 [==============================] - 16s 26ms/step - loss: 0.0657 - accuracy: 0.9762 - val_loss: 1.6611 - val_accuracy: 0.6514\n",
      "Epoch 42/100\n",
      "625/625 [==============================] - 14s 22ms/step - loss: 0.0503 - accuracy: 0.9822 - val_loss: 1.6685 - val_accuracy: 0.6502\n",
      "Epoch 43/100\n",
      "625/625 [==============================] - 14s 23ms/step - loss: 0.0530 - accuracy: 0.9819 - val_loss: 1.7268 - val_accuracy: 0.6524\n",
      "Epoch 44/100\n",
      "625/625 [==============================] - 13s 21ms/step - loss: 0.0725 - accuracy: 0.9746 - val_loss: 1.7113 - val_accuracy: 0.6586\n",
      "Epoch 45/100\n",
      "625/625 [==============================] - 11s 18ms/step - loss: 0.0691 - accuracy: 0.9744 - val_loss: 1.6886 - val_accuracy: 0.6534\n",
      "Epoch 46/100\n",
      "625/625 [==============================] - 10s 17ms/step - loss: 0.0377 - accuracy: 0.9877 - val_loss: 1.6777 - val_accuracy: 0.6614\n",
      "Epoch 47/100\n",
      "625/625 [==============================] - 11s 17ms/step - loss: 0.0480 - accuracy: 0.9829 - val_loss: 1.7176 - val_accuracy: 0.6590\n",
      "Epoch 48/100\n",
      "625/625 [==============================] - 11s 17ms/step - loss: 0.1177 - accuracy: 0.9573 - val_loss: 1.7140 - val_accuracy: 0.6478\n",
      "Epoch 49/100\n",
      "625/625 [==============================] - 12s 20ms/step - loss: 0.0660 - accuracy: 0.9765 - val_loss: 1.7137 - val_accuracy: 0.6498\n",
      "Epoch 50/100\n",
      "625/625 [==============================] - 12s 20ms/step - loss: 0.0361 - accuracy: 0.9884 - val_loss: 1.7642 - val_accuracy: 0.6574\n",
      "Epoch 51/100\n",
      "625/625 [==============================] - 12s 19ms/step - loss: 0.0789 - accuracy: 0.9729 - val_loss: 1.7245 - val_accuracy: 0.6576\n",
      "Epoch 52/100\n",
      "625/625 [==============================] - 12s 19ms/step - loss: 0.0749 - accuracy: 0.9729 - val_loss: 1.6334 - val_accuracy: 0.6550\n",
      "Epoch 53/100\n",
      "625/625 [==============================] - 12s 19ms/step - loss: 0.0314 - accuracy: 0.9897 - val_loss: 1.7652 - val_accuracy: 0.6612\n",
      "Epoch 54/100\n",
      "625/625 [==============================] - 12s 20ms/step - loss: 0.0485 - accuracy: 0.9827 - val_loss: 1.7418 - val_accuracy: 0.6560\n",
      "Epoch 55/100\n",
      "625/625 [==============================] - 13s 20ms/step - loss: 0.0750 - accuracy: 0.9716 - val_loss: 1.7510 - val_accuracy: 0.6550\n",
      "Epoch 56/100\n",
      "625/625 [==============================] - 22s 35ms/step - loss: 0.0588 - accuracy: 0.9787 - val_loss: 1.8099 - val_accuracy: 0.6576\n",
      "Epoch 57/100\n",
      "625/625 [==============================] - 18s 28ms/step - loss: 0.0703 - accuracy: 0.9733 - val_loss: 1.7584 - val_accuracy: 0.6570\n",
      "Epoch 58/100\n",
      "625/625 [==============================] - 18s 28ms/step - loss: 0.0390 - accuracy: 0.9882 - val_loss: 1.7246 - val_accuracy: 0.6682\n",
      "Epoch 59/100\n",
      "625/625 [==============================] - 19s 30ms/step - loss: 0.0343 - accuracy: 0.9891 - val_loss: 1.8508 - val_accuracy: 0.6630\n",
      "Epoch 60/100\n",
      "625/625 [==============================] - 18s 29ms/step - loss: 0.0668 - accuracy: 0.9768 - val_loss: 1.8779 - val_accuracy: 0.6552\n",
      "Epoch 61/100\n",
      "625/625 [==============================] - 12s 19ms/step - loss: 0.0610 - accuracy: 0.9776 - val_loss: 1.7699 - val_accuracy: 0.6588\n",
      "Epoch 62/100\n",
      "625/625 [==============================] - 16s 26ms/step - loss: 0.0494 - accuracy: 0.9840 - val_loss: 1.7643 - val_accuracy: 0.6668\n",
      "Epoch 63/100\n",
      "625/625 [==============================] - 14s 23ms/step - loss: 0.0468 - accuracy: 0.9827 - val_loss: 1.9335 - val_accuracy: 0.6464\n",
      "Epoch 64/100\n",
      "625/625 [==============================] - 14s 22ms/step - loss: 0.0554 - accuracy: 0.9797 - val_loss: 1.8259 - val_accuracy: 0.6568\n",
      "Epoch 65/100\n",
      "625/625 [==============================] - 16s 26ms/step - loss: 0.0717 - accuracy: 0.9735 - val_loss: 1.8323 - val_accuracy: 0.6528\n",
      "Epoch 66/100\n",
      "625/625 [==============================] - 24s 38ms/step - loss: 0.0378 - accuracy: 0.9875 - val_loss: 1.8168 - val_accuracy: 0.6572\n",
      "Epoch 67/100\n",
      "625/625 [==============================] - 19s 30ms/step - loss: 0.0570 - accuracy: 0.9806 - val_loss: 1.9136 - val_accuracy: 0.6514\n",
      "Epoch 68/100\n",
      "625/625 [==============================] - 19s 30ms/step - loss: 0.0564 - accuracy: 0.9789 - val_loss: 1.8538 - val_accuracy: 0.6508\n",
      "Epoch 69/100\n",
      "625/625 [==============================] - 19s 30ms/step - loss: 0.0586 - accuracy: 0.9784 - val_loss: 1.8118 - val_accuracy: 0.6562\n",
      "Epoch 70/100\n",
      "625/625 [==============================] - 18s 28ms/step - loss: 0.0307 - accuracy: 0.9905 - val_loss: 1.8151 - val_accuracy: 0.6546\n",
      "Epoch 71/100\n",
      "625/625 [==============================] - 16s 26ms/step - loss: 0.0524 - accuracy: 0.9815 - val_loss: 1.9454 - val_accuracy: 0.6484\n",
      "Epoch 72/100\n",
      "625/625 [==============================] - 17s 27ms/step - loss: 0.0536 - accuracy: 0.9811 - val_loss: 1.8970 - val_accuracy: 0.6592\n",
      "Epoch 73/100\n",
      "625/625 [==============================] - 17s 27ms/step - loss: 0.0915 - accuracy: 0.9686 - val_loss: 1.8186 - val_accuracy: 0.6604\n",
      "Epoch 74/100\n",
      "625/625 [==============================] - 18s 28ms/step - loss: 0.0303 - accuracy: 0.9895 - val_loss: 1.8059 - val_accuracy: 0.6632\n",
      "Epoch 75/100\n",
      "625/625 [==============================] - 13s 20ms/step - loss: 0.0353 - accuracy: 0.9887 - val_loss: 1.9190 - val_accuracy: 0.6550\n",
      "Epoch 76/100\n",
      "625/625 [==============================] - 13s 21ms/step - loss: 0.0528 - accuracy: 0.9817 - val_loss: 1.8963 - val_accuracy: 0.6524\n",
      "Epoch 77/100\n",
      "625/625 [==============================] - 15s 24ms/step - loss: 0.0648 - accuracy: 0.9759 - val_loss: 1.8190 - val_accuracy: 0.6624\n",
      "Epoch 78/100\n",
      "625/625 [==============================] - 13s 21ms/step - loss: 0.0472 - accuracy: 0.9837 - val_loss: 1.8602 - val_accuracy: 0.6596\n",
      "Epoch 79/100\n",
      "625/625 [==============================] - 13s 21ms/step - loss: 0.0772 - accuracy: 0.9740 - val_loss: 1.8727 - val_accuracy: 0.6570\n",
      "Epoch 80/100\n",
      "625/625 [==============================] - 14s 23ms/step - loss: 0.0664 - accuracy: 0.9761 - val_loss: 1.9103 - val_accuracy: 0.6582\n",
      "Epoch 81/100\n",
      "625/625 [==============================] - 16s 25ms/step - loss: 0.0217 - accuracy: 0.9931 - val_loss: 1.9067 - val_accuracy: 0.6536\n",
      "Epoch 82/100\n",
      "625/625 [==============================] - 14s 23ms/step - loss: 0.0496 - accuracy: 0.9829 - val_loss: 1.9939 - val_accuracy: 0.6556\n",
      "Epoch 83/100\n",
      "625/625 [==============================] - 14s 23ms/step - loss: 0.0816 - accuracy: 0.9717 - val_loss: 1.8489 - val_accuracy: 0.6522\n",
      "Epoch 84/100\n",
      "625/625 [==============================] - 15s 24ms/step - loss: 0.0273 - accuracy: 0.9908 - val_loss: 1.9770 - val_accuracy: 0.6566\n",
      "Epoch 85/100\n",
      "625/625 [==============================] - 14s 23ms/step - loss: 0.0248 - accuracy: 0.9926 - val_loss: 1.9254 - val_accuracy: 0.6560\n",
      "Epoch 86/100\n",
      "625/625 [==============================] - 14s 22ms/step - loss: 0.0497 - accuracy: 0.9824 - val_loss: 1.9851 - val_accuracy: 0.6576\n",
      "Epoch 87/100\n",
      "625/625 [==============================] - 15s 23ms/step - loss: 0.0686 - accuracy: 0.9751 - val_loss: 1.8929 - val_accuracy: 0.6610\n",
      "Epoch 88/100\n",
      "625/625 [==============================] - 17s 28ms/step - loss: 0.0465 - accuracy: 0.9840 - val_loss: 1.9316 - val_accuracy: 0.6504\n",
      "Epoch 89/100\n",
      "625/625 [==============================] - 15s 24ms/step - loss: 0.0455 - accuracy: 0.9833 - val_loss: 1.9531 - val_accuracy: 0.6638\n",
      "Epoch 90/100\n",
      "625/625 [==============================] - 14s 23ms/step - loss: 0.0732 - accuracy: 0.9737 - val_loss: 1.8989 - val_accuracy: 0.6524\n",
      "Epoch 91/100\n",
      "625/625 [==============================] - 16s 25ms/step - loss: 0.0391 - accuracy: 0.9862 - val_loss: 1.9539 - val_accuracy: 0.6488\n",
      "Epoch 92/100\n",
      "625/625 [==============================] - 16s 26ms/step - loss: 0.0524 - accuracy: 0.9815 - val_loss: 1.8944 - val_accuracy: 0.6540\n",
      "Epoch 93/100\n",
      "625/625 [==============================] - 23s 37ms/step - loss: 0.0333 - accuracy: 0.9887 - val_loss: 1.9672 - val_accuracy: 0.6560\n",
      "Epoch 94/100\n",
      "625/625 [==============================] - 21s 34ms/step - loss: 0.0433 - accuracy: 0.9844 - val_loss: 2.0063 - val_accuracy: 0.6486\n",
      "Epoch 95/100\n",
      "625/625 [==============================] - 22s 36ms/step - loss: 0.0214 - accuracy: 0.9931 - val_loss: 2.0363 - val_accuracy: 0.6496\n",
      "Epoch 96/100\n",
      "625/625 [==============================] - 23s 37ms/step - loss: 0.1135 - accuracy: 0.9622 - val_loss: 1.8951 - val_accuracy: 0.6564\n",
      "Epoch 97/100\n",
      "625/625 [==============================] - 25s 39ms/step - loss: 0.0416 - accuracy: 0.9855 - val_loss: 1.9518 - val_accuracy: 0.6520\n",
      "Epoch 98/100\n",
      "625/625 [==============================] - 21s 34ms/step - loss: 0.0293 - accuracy: 0.9898 - val_loss: 1.9504 - val_accuracy: 0.6546\n",
      "Epoch 99/100\n",
      "625/625 [==============================] - 24s 38ms/step - loss: 0.0587 - accuracy: 0.9796 - val_loss: 1.9404 - val_accuracy: 0.6530\n",
      "Epoch 100/100\n",
      "625/625 [==============================] - 24s 39ms/step - loss: 0.0461 - accuracy: 0.9844 - val_loss: 2.0045 - val_accuracy: 0.6474\n"
     ]
    }
   ],
   "source": [
    "history = model.fit(X_train, Y_train,\n",
    "          epochs = 100,\n",
    "          validation_data = (X_test, Y_test),\n",
    "          callbacks=[callbacks],\n",
    "          verbose = 1)"
   ]
  },
  {
   "cell_type": "code",
   "execution_count": 62,
   "id": "16d09e66-3118-4c9c-940c-15c5bc3093aa",
   "metadata": {},
   "outputs": [],
   "source": [
    "#%load_ext tensorboard"
   ]
  },
  {
   "cell_type": "code",
   "execution_count": 63,
   "id": "d69d767a-6fdd-49bf-879e-a56c2ad5db5b",
   "metadata": {},
   "outputs": [],
   "source": [
    "#%tensorboard --logdir logs/fit"
   ]
  },
  {
   "cell_type": "code",
   "execution_count": 20,
   "id": "b4016896-b2e0-473c-b6b4-8e2085416785",
   "metadata": {},
   "outputs": [],
   "source": [
    "model.save(\"Models/CatsAndDogs.h5\")"
   ]
  },
  {
   "cell_type": "code",
   "execution_count": 4,
   "id": "c9a33887-4b48-4601-bbe5-8980ec9ab871",
   "metadata": {},
   "outputs": [],
   "source": [
    "class_data = [\"cat\", 'dog']\n",
    "saveModelData = load_model(\"Models/CatsAndDogs.h5\")"
   ]
  },
  {
   "cell_type": "code",
   "execution_count": 7,
   "id": "b529f791-4572-46f6-933a-ba3d3b0121b1",
   "metadata": {},
   "outputs": [],
   "source": [
    "testImageData = cv2.imread(\"DataSet/test/1.jpg\")\n",
    "testImageDataFeature = imageFeatureExtract(testImageData)/255.0\n",
    "testImageDataFeature = np.array([testImageDataFeature])"
   ]
  },
  {
   "cell_type": "code",
   "execution_count": 8,
   "id": "cc908eb6-7b8a-417c-bc04-27496e3f2cd5",
   "metadata": {},
   "outputs": [
    {
     "data": {
      "text/plain": [
       "(1, 28, 28, 1)"
      ]
     },
     "execution_count": 8,
     "metadata": {},
     "output_type": "execute_result"
    }
   ],
   "source": [
    "testImageDataFeature.shape"
   ]
  },
  {
   "cell_type": "code",
   "execution_count": 13,
   "id": "0df56aae-570b-493a-b6e0-0e7e9b3fe738",
   "metadata": {},
   "outputs": [],
   "source": [
    "predict = saveModelData.predict(testImageDataFeature)[0]"
   ]
  },
  {
   "cell_type": "code",
   "execution_count": 18,
   "id": "1e91f632-fd37-4417-bbd1-b6af3ea4a0fa",
   "metadata": {},
   "outputs": [],
   "source": [
    "probability = saveModelData.predict(testImageDataFeature)"
   ]
  },
  {
   "cell_type": "code",
   "execution_count": 19,
   "id": "be019e03-e1df-43d9-bb0f-d19be7c15af0",
   "metadata": {},
   "outputs": [
    {
     "data": {
      "text/plain": [
       "0"
      ]
     },
     "execution_count": 19,
     "metadata": {},
     "output_type": "execute_result"
    }
   ],
   "source": [
    "probabilityMaximum = predict.argmax(axis = 0)\n",
    "probabilityMaximum"
   ]
  },
  {
   "cell_type": "code",
   "execution_count": 20,
   "id": "175ac0be-2989-4b4a-b970-256060d5f836",
   "metadata": {},
   "outputs": [
    {
     "data": {
      "image/png": "[encoded data removed]",
      "text/plain": [
       "<Figure size 432x288 with 1 Axes>"
      ]
     },
     "metadata": {
      "needs_background": "light"
     },
     "output_type": "display_data"
    }
   ],
   "source": [
    "imageDataLabels = \"{}: {:.2f}%\".format(class_data[probabilityMaximum], predict[probabilityMaximum]*100)\n",
    "cv2.putText(testImageData, imageDataLabels, (10, 35), cv2.FONT_HERSHEY_SIMPLEX, 1.0, (0, 255, 0), 3)\n",
    "\n",
    "plt.imshow(testImageData, cmap = \"gray\")\n",
    "plt.show()"
   ]
  },
  {
   "cell_type": "code",
   "execution_count": null,
   "id": "f6f39f5b-2199-49ca-ab0e-15eaa19f151b",
   "metadata": {},
   "outputs": [],
   "source": []
  }
 ],
 "metadata": {
  "kernelspec": {
   "display_name": "Python 3.10.1 64-bit",
   "language": "python",
   "name": "python3"
  },
  "language_info": {
   "codemirror_mode": {
    "name": "ipython",
    "version": 3
   },
   "file_extension": ".py",
   "mimetype": "text/x-python",
   "name": "python",
   "nbconvert_exporter": "python",
   "pygments_lexer": "ipython3",
   "version": "3.10.1"
  },
  "vscode": {
   "interpreter": {
    "hash": "92da819e55a468d924b70afc9c0dba7f1e7f7aa00c69ffabe3e336a7e34c105a"
   }
  }
 },
 "nbformat": 4,
 "nbformat_minor": 5
}
